{
  "cells": [
    {
      "cell_type": "code",
      "execution_count": 1,
      "metadata": {},
      "outputs": [],
      "source": [
        "import re\n",
        "import pandas as pd \n",
        "import numpy as np\n",
        "import seaborn as sns\n",
        "import matplotlib.pyplot as plot\n",
        "\n",
        "from sklearn.decomposition import PCA\n",
        "from sklearn.preprocessing import MinMaxScaler\n",
        "from xgboost import XGBClassifier\n",
        "from sklearn.model_selection import cross_val_score\n",
        "from sklearn.model_selection import RepeatedStratifiedKFold, GridSearchCV\n",
        "\n"
      ]
    },
    {
      "cell_type": "markdown",
      "metadata": {},
      "source": [
        "we drop the TARGET_AMT column because we want to predict the TARGET_FLAG. So training a model with the TARGET_AMT amount as input is useless.   "
      ]
    },
    {
      "cell_type": "code",
      "execution_count": 2,
      "metadata": {},
      "outputs": [],
      "source": [
        "train_data = pd.read_csv(\"data/auto-insurance-fall-2017/train_auto.csv\")\n",
        "train_data = train_data.drop([\"INDEX\",\"TARGET_AMT\"],axis =1)\n",
        "\n",
        "unlabeled_data = pd.read_csv(\"data/auto-insurance-fall-2017/test_auto.csv\")\n",
        "unlabeled_data = unlabeled_data.drop([\"INDEX\",\"TARGET_AMT\"],axis =1)"
      ]
    },
    {
      "cell_type": "code",
      "execution_count": 3,
      "metadata": {},
      "outputs": [
        {
          "data": {
            "text/plain": [
              "Index(['TARGET_FLAG', 'KIDSDRIV', 'AGE', 'HOMEKIDS', 'YOJ', 'INCOME',\n",
              "       'PARENT1', 'HOME_VAL', 'MSTATUS', 'SEX', 'EDUCATION', 'JOB', 'TRAVTIME',\n",
              "       'CAR_USE', 'BLUEBOOK', 'TIF', 'CAR_TYPE', 'RED_CAR', 'OLDCLAIM',\n",
              "       'CLM_FREQ', 'REVOKED', 'MVR_PTS', 'CAR_AGE', 'URBANICITY'],\n",
              "      dtype='object')"
            ]
          },
          "execution_count": 3,
          "metadata": {},
          "output_type": "execute_result"
        }
      ],
      "source": [
        "train_data.columns"
      ]
    },
    {
      "cell_type": "code",
      "execution_count": 4,
      "metadata": {},
      "outputs": [
        {
          "data": {
            "text/html": [
              "<div>\n",
              "<style scoped>\n",
              "    .dataframe tbody tr th:only-of-type {\n",
              "        vertical-align: middle;\n",
              "    }\n",
              "\n",
              "    .dataframe tbody tr th {\n",
              "        vertical-align: top;\n",
              "    }\n",
              "\n",
              "    .dataframe thead th {\n",
              "        text-align: right;\n",
              "    }\n",
              "</style>\n",
              "<table border=\"1\" class=\"dataframe\">\n",
              "  <thead>\n",
              "    <tr style=\"text-align: right;\">\n",
              "      <th></th>\n",
              "      <th>TARGET_FLAG</th>\n",
              "      <th>KIDSDRIV</th>\n",
              "      <th>AGE</th>\n",
              "      <th>HOMEKIDS</th>\n",
              "      <th>YOJ</th>\n",
              "      <th>INCOME</th>\n",
              "      <th>PARENT1</th>\n",
              "      <th>HOME_VAL</th>\n",
              "      <th>MSTATUS</th>\n",
              "      <th>SEX</th>\n",
              "      <th>...</th>\n",
              "      <th>BLUEBOOK</th>\n",
              "      <th>TIF</th>\n",
              "      <th>CAR_TYPE</th>\n",
              "      <th>RED_CAR</th>\n",
              "      <th>OLDCLAIM</th>\n",
              "      <th>CLM_FREQ</th>\n",
              "      <th>REVOKED</th>\n",
              "      <th>MVR_PTS</th>\n",
              "      <th>CAR_AGE</th>\n",
              "      <th>URBANICITY</th>\n",
              "    </tr>\n",
              "  </thead>\n",
              "  <tbody>\n",
              "    <tr>\n",
              "      <th>0</th>\n",
              "      <td>0</td>\n",
              "      <td>0</td>\n",
              "      <td>60.0</td>\n",
              "      <td>0</td>\n",
              "      <td>11.0</td>\n",
              "      <td>$67,349</td>\n",
              "      <td>No</td>\n",
              "      <td>$0</td>\n",
              "      <td>z_No</td>\n",
              "      <td>M</td>\n",
              "      <td>...</td>\n",
              "      <td>$14,230</td>\n",
              "      <td>11</td>\n",
              "      <td>Minivan</td>\n",
              "      <td>yes</td>\n",
              "      <td>$4,461</td>\n",
              "      <td>2</td>\n",
              "      <td>No</td>\n",
              "      <td>3</td>\n",
              "      <td>18.0</td>\n",
              "      <td>Highly Urban/ Urban</td>\n",
              "    </tr>\n",
              "    <tr>\n",
              "      <th>1</th>\n",
              "      <td>0</td>\n",
              "      <td>0</td>\n",
              "      <td>43.0</td>\n",
              "      <td>0</td>\n",
              "      <td>11.0</td>\n",
              "      <td>$91,449</td>\n",
              "      <td>No</td>\n",
              "      <td>$257,252</td>\n",
              "      <td>z_No</td>\n",
              "      <td>M</td>\n",
              "      <td>...</td>\n",
              "      <td>$14,940</td>\n",
              "      <td>1</td>\n",
              "      <td>Minivan</td>\n",
              "      <td>yes</td>\n",
              "      <td>$0</td>\n",
              "      <td>0</td>\n",
              "      <td>No</td>\n",
              "      <td>0</td>\n",
              "      <td>1.0</td>\n",
              "      <td>Highly Urban/ Urban</td>\n",
              "    </tr>\n",
              "    <tr>\n",
              "      <th>2</th>\n",
              "      <td>0</td>\n",
              "      <td>0</td>\n",
              "      <td>35.0</td>\n",
              "      <td>1</td>\n",
              "      <td>10.0</td>\n",
              "      <td>$16,039</td>\n",
              "      <td>No</td>\n",
              "      <td>$124,191</td>\n",
              "      <td>Yes</td>\n",
              "      <td>z_F</td>\n",
              "      <td>...</td>\n",
              "      <td>$4,010</td>\n",
              "      <td>4</td>\n",
              "      <td>z_SUV</td>\n",
              "      <td>no</td>\n",
              "      <td>$38,690</td>\n",
              "      <td>2</td>\n",
              "      <td>No</td>\n",
              "      <td>3</td>\n",
              "      <td>10.0</td>\n",
              "      <td>Highly Urban/ Urban</td>\n",
              "    </tr>\n",
              "    <tr>\n",
              "      <th>3</th>\n",
              "      <td>0</td>\n",
              "      <td>0</td>\n",
              "      <td>51.0</td>\n",
              "      <td>0</td>\n",
              "      <td>14.0</td>\n",
              "      <td>NaN</td>\n",
              "      <td>No</td>\n",
              "      <td>$306,251</td>\n",
              "      <td>Yes</td>\n",
              "      <td>M</td>\n",
              "      <td>...</td>\n",
              "      <td>$15,440</td>\n",
              "      <td>7</td>\n",
              "      <td>Minivan</td>\n",
              "      <td>yes</td>\n",
              "      <td>$0</td>\n",
              "      <td>0</td>\n",
              "      <td>No</td>\n",
              "      <td>0</td>\n",
              "      <td>6.0</td>\n",
              "      <td>Highly Urban/ Urban</td>\n",
              "    </tr>\n",
              "    <tr>\n",
              "      <th>4</th>\n",
              "      <td>0</td>\n",
              "      <td>0</td>\n",
              "      <td>50.0</td>\n",
              "      <td>0</td>\n",
              "      <td>NaN</td>\n",
              "      <td>$114,986</td>\n",
              "      <td>No</td>\n",
              "      <td>$243,925</td>\n",
              "      <td>Yes</td>\n",
              "      <td>z_F</td>\n",
              "      <td>...</td>\n",
              "      <td>$18,000</td>\n",
              "      <td>1</td>\n",
              "      <td>z_SUV</td>\n",
              "      <td>no</td>\n",
              "      <td>$19,217</td>\n",
              "      <td>2</td>\n",
              "      <td>Yes</td>\n",
              "      <td>3</td>\n",
              "      <td>17.0</td>\n",
              "      <td>Highly Urban/ Urban</td>\n",
              "    </tr>\n",
              "  </tbody>\n",
              "</table>\n",
              "<p>5 rows × 24 columns</p>\n",
              "</div>"
            ],
            "text/plain": [
              "   TARGET_FLAG  KIDSDRIV   AGE  HOMEKIDS   YOJ    INCOME PARENT1  HOME_VAL  \\\n",
              "0            0         0  60.0         0  11.0   $67,349      No        $0   \n",
              "1            0         0  43.0         0  11.0   $91,449      No  $257,252   \n",
              "2            0         0  35.0         1  10.0   $16,039      No  $124,191   \n",
              "3            0         0  51.0         0  14.0       NaN      No  $306,251   \n",
              "4            0         0  50.0         0   NaN  $114,986      No  $243,925   \n",
              "\n",
              "  MSTATUS  SEX  ... BLUEBOOK TIF  CAR_TYPE RED_CAR OLDCLAIM  CLM_FREQ REVOKED  \\\n",
              "0    z_No    M  ...  $14,230  11   Minivan     yes   $4,461         2      No   \n",
              "1    z_No    M  ...  $14,940   1   Minivan     yes       $0         0      No   \n",
              "2     Yes  z_F  ...   $4,010   4     z_SUV      no  $38,690         2      No   \n",
              "3     Yes    M  ...  $15,440   7   Minivan     yes       $0         0      No   \n",
              "4     Yes  z_F  ...  $18,000   1     z_SUV      no  $19,217         2     Yes   \n",
              "\n",
              "  MVR_PTS CAR_AGE           URBANICITY  \n",
              "0       3    18.0  Highly Urban/ Urban  \n",
              "1       0     1.0  Highly Urban/ Urban  \n",
              "2       3    10.0  Highly Urban/ Urban  \n",
              "3       0     6.0  Highly Urban/ Urban  \n",
              "4       3    17.0  Highly Urban/ Urban  \n",
              "\n",
              "[5 rows x 24 columns]"
            ]
          },
          "execution_count": 4,
          "metadata": {},
          "output_type": "execute_result"
        }
      ],
      "source": [
        "# quick look on the data\n",
        "train_data.head()"
      ]
    },
    {
      "cell_type": "code",
      "execution_count": 5,
      "metadata": {},
      "outputs": [
        {
          "data": {
            "text/plain": [
              "TARGET_FLAG      int64\n",
              "KIDSDRIV         int64\n",
              "AGE            float64\n",
              "HOMEKIDS         int64\n",
              "YOJ            float64\n",
              "INCOME          object\n",
              "PARENT1         object\n",
              "HOME_VAL        object\n",
              "MSTATUS         object\n",
              "SEX             object\n",
              "EDUCATION       object\n",
              "JOB             object\n",
              "TRAVTIME         int64\n",
              "CAR_USE         object\n",
              "BLUEBOOK        object\n",
              "TIF              int64\n",
              "CAR_TYPE        object\n",
              "RED_CAR         object\n",
              "OLDCLAIM        object\n",
              "CLM_FREQ         int64\n",
              "REVOKED         object\n",
              "MVR_PTS          int64\n",
              "CAR_AGE        float64\n",
              "URBANICITY      object\n",
              "dtype: object"
            ]
          },
          "execution_count": 5,
          "metadata": {},
          "output_type": "execute_result"
        }
      ],
      "source": [
        "# quick look on the data\n",
        "train_data.dtypes"
      ]
    },
    {
      "cell_type": "markdown",
      "metadata": {},
      "source": [
        "# Data preparation and analysis. "
      ]
    },
    {
      "cell_type": "markdown",
      "metadata": {},
      "source": [
        "## Nan values inputation"
      ]
    },
    {
      "cell_type": "code",
      "execution_count": 632,
      "metadata": {},
      "outputs": [
        {
          "name": "stdout",
          "output_type": "stream",
          "text": [
            "(8161, 24) (2141, 24)\n"
          ]
        }
      ],
      "source": [
        "print(train_data.shape,unlabeled_data.shape)"
      ]
    },
    {
      "cell_type": "code",
      "execution_count": 633,
      "metadata": {},
      "outputs": [
        {
          "data": {
            "text/plain": [
              "TARGET_FLAG    0.000000\n",
              "KIDSDRIV       0.000000\n",
              "AGE            0.000735\n",
              "HOMEKIDS       0.000000\n",
              "YOJ            0.055630\n",
              "INCOME         0.054528\n",
              "PARENT1        0.000000\n",
              "HOME_VAL       0.056856\n",
              "MSTATUS        0.000000\n",
              "SEX            0.000000\n",
              "EDUCATION      0.000000\n",
              "JOB            0.064453\n",
              "TRAVTIME       0.000000\n",
              "CAR_USE        0.000000\n",
              "BLUEBOOK       0.000000\n",
              "TIF            0.000000\n",
              "CAR_TYPE       0.000000\n",
              "RED_CAR        0.000000\n",
              "OLDCLAIM       0.000000\n",
              "CLM_FREQ       0.000000\n",
              "REVOKED        0.000000\n",
              "MVR_PTS        0.000000\n",
              "CAR_AGE        0.062492\n",
              "URBANICITY     0.000000\n",
              "dtype: float64"
            ]
          },
          "execution_count": 633,
          "metadata": {},
          "output_type": "execute_result"
        }
      ],
      "source": [
        "train_data.isna().sum()/train_data.shape[0]"
      ]
    },
    {
      "cell_type": "code",
      "execution_count": 634,
      "metadata": {},
      "outputs": [
        {
          "data": {
            "text/plain": [
              "(6045, 24)"
            ]
          },
          "execution_count": 634,
          "metadata": {},
          "output_type": "execute_result"
        }
      ],
      "source": [
        "train_data.dropna().shape"
      ]
    },
    {
      "cell_type": "markdown",
      "metadata": {},
      "source": [
        "We have to much nan we can not drop them all. We need to find a solution to input them \n",
        "- I have decided to use the mean value to input Nan."
      ]
    },
    {
      "cell_type": "code",
      "execution_count": 635,
      "metadata": {},
      "outputs": [],
      "source": [
        "# for currency values we remove \"$\" and \",\"\n",
        "for data in [train_data,unlabeled_data]:\n",
        "    for col in [\"HOME_VAL\",\"INCOME\", \"OLDCLAIM\",\"BLUEBOOK\"]:\n",
        "        data[col] = data[col].str.replace('$', '',regex=True).replace(\",\",'')\n",
        "        data[col] = data[col].str.replace(\",\",'')\n",
        "        data[col] = data[col].astype(float)\n",
        "\n",
        "    data.YOJ = data.YOJ.fillna(train_data.YOJ.mean())\n",
        "    data.INCOME = data.INCOME.fillna(train_data.INCOME.mean())\n",
        "    data.HOME_VAL = data.HOME_VAL.fillna(train_data.HOME_VAL.mean())\n",
        "    data.AGE = data.AGE.fillna(train_data.AGE.mean())\n",
        "    data.CAR_AGE = data.CAR_AGE.fillna(train_data.CAR_AGE.mean())\n",
        "\n",
        "    # for unknown job I will create another category \"Unknown\"\n",
        "    data.JOB = data.JOB.fillna(\"UNKNOW\")\n",
        "   "
      ]
    },
    {
      "cell_type": "code",
      "execution_count": 636,
      "metadata": {},
      "outputs": [
        {
          "data": {
            "text/plain": [
              "TARGET_FLAG    1.0\n",
              "KIDSDRIV       0.0\n",
              "AGE            0.0\n",
              "HOMEKIDS       0.0\n",
              "YOJ            0.0\n",
              "INCOME         0.0\n",
              "PARENT1        0.0\n",
              "HOME_VAL       0.0\n",
              "MSTATUS        0.0\n",
              "SEX            0.0\n",
              "EDUCATION      0.0\n",
              "JOB            0.0\n",
              "TRAVTIME       0.0\n",
              "CAR_USE        0.0\n",
              "BLUEBOOK       0.0\n",
              "TIF            0.0\n",
              "CAR_TYPE       0.0\n",
              "RED_CAR        0.0\n",
              "OLDCLAIM       0.0\n",
              "CLM_FREQ       0.0\n",
              "REVOKED        0.0\n",
              "MVR_PTS        0.0\n",
              "CAR_AGE        0.0\n",
              "URBANICITY     0.0\n",
              "dtype: float64"
            ]
          },
          "execution_count": 636,
          "metadata": {},
          "output_type": "execute_result"
        }
      ],
      "source": [
        "unlabeled_data.isna().sum()/unlabeled_data.shape[0]"
      ]
    },
    {
      "cell_type": "markdown",
      "metadata": {},
      "source": [
        " for unlabeled data the target is not known so we will drop the column. "
      ]
    },
    {
      "cell_type": "code",
      "execution_count": 637,
      "metadata": {},
      "outputs": [],
      "source": [
        "unlabeled_data = unlabeled_data.drop([\"TARGET_FLAG\"],axis =1)"
      ]
    },
    {
      "cell_type": "code",
      "execution_count": 638,
      "metadata": {},
      "outputs": [
        {
          "data": {
            "text/plain": [
              "TARGET_FLAG    0.0\n",
              "KIDSDRIV       0.0\n",
              "AGE            0.0\n",
              "HOMEKIDS       0.0\n",
              "YOJ            0.0\n",
              "INCOME         0.0\n",
              "PARENT1        0.0\n",
              "HOME_VAL       0.0\n",
              "MSTATUS        0.0\n",
              "SEX            0.0\n",
              "EDUCATION      0.0\n",
              "JOB            0.0\n",
              "TRAVTIME       0.0\n",
              "CAR_USE        0.0\n",
              "BLUEBOOK       0.0\n",
              "TIF            0.0\n",
              "CAR_TYPE       0.0\n",
              "RED_CAR        0.0\n",
              "OLDCLAIM       0.0\n",
              "CLM_FREQ       0.0\n",
              "REVOKED        0.0\n",
              "MVR_PTS        0.0\n",
              "CAR_AGE        0.0\n",
              "URBANICITY     0.0\n",
              "dtype: float64"
            ]
          },
          "execution_count": 638,
          "metadata": {},
          "output_type": "execute_result"
        }
      ],
      "source": [
        "train_data.isna().sum()/train_data.shape[0]"
      ]
    },
    {
      "cell_type": "markdown",
      "metadata": {},
      "source": [
        "we have no more Nan values"
      ]
    },
    {
      "cell_type": "markdown",
      "metadata": {},
      "source": [
        "## Encoding\n"
      ]
    },
    {
      "cell_type": "markdown",
      "metadata": {},
      "source": [
        "To encode categorical data i had two approches:\n",
        "- Custome function for boolean - type  \n",
        "- pd.get_dummies to one hot encode the other categorical data"
      ]
    },
    {
      "cell_type": "code",
      "execution_count": 639,
      "metadata": {},
      "outputs": [],
      "source": [
        "def convert_word_in_bool(word):\n",
        "    \"\"\"\n",
        "    word: str \n",
        "    return: Boolean \n",
        "    \"\"\"\n",
        "    if word == \"No\" or word == \"z_No\" or word ==\"no\" or word == \"z_F\":\n",
        "        return 0\n",
        "    elif word == 'Yes' or word == \"yes\" or word == \"M\":\n",
        "        return 1\n",
        "\n",
        "for data in [train_data,unlabeled_data]:\n",
        "    for col in [\"REVOKED\",\"SEX\",\"PARENT1\",\"MSTATUS\",\"RED_CAR\"]:\n",
        "        data[col] = data[col].apply(convert_word_in_bool)\n",
        "\n",
        "# we create a custim function for URBANICITY field since the string used is different. \n",
        "def convert_urban_in_bool(word):\n",
        "    if word == \"Highly Urban/ Urban\":\n",
        "        return 1\n",
        "    elif word == 'z_Highly Rural/ Rural':\n",
        "        return 0\n",
        "\n",
        "for data in [train_data,unlabeled_data]:\n",
        "    data.URBANICITY = data.URBANICITY.apply(convert_urban_in_bool)"
      ]
    },
    {
      "cell_type": "code",
      "execution_count": 640,
      "metadata": {},
      "outputs": [],
      "source": [
        "# for other categorical data we use get dummies to onenhot encode them.\n",
        "for col in [\"EDUCATION\",\"JOB\",\"CAR_USE\",\"CAR_TYPE\"]:\n",
        "    get_dummies = pd.get_dummies(train_data[col])\n",
        "\n",
        "    get_dummies.columns = [str(col)+\"_\"+str(column) for column in get_dummies.columns]\n",
        "    train_data = train_data.join(get_dummies)\n",
        "        \n",
        "    train_data = train_data.drop(col,axis=1)\n",
        "\n",
        "for col in [\"EDUCATION\",\"JOB\",\"CAR_USE\",\"CAR_TYPE\"]:\n",
        "    get_dummies = pd.get_dummies(unlabeled_data[col])\n",
        "\n",
        "    get_dummies.columns = [str(col)+\"_\"+str(column) for column in get_dummies.columns]\n",
        "    unlabeled_data = unlabeled_data.join(get_dummies)\n",
        "\n",
        "    unlabeled_data = unlabeled_data.drop(col,axis=1)"
      ]
    },
    {
      "cell_type": "code",
      "execution_count": 641,
      "metadata": {},
      "outputs": [
        {
          "name": "stdout",
          "output_type": "stream",
          "text": [
            "(8161, 42) (2141, 41)\n"
          ]
        }
      ],
      "source": [
        "print(train_data.shape,unlabeled_data.shape)"
      ]
    },
    {
      "cell_type": "markdown",
      "metadata": {},
      "source": [
        "## scale numeric values"
      ]
    },
    {
      "cell_type": "markdown",
      "metadata": {},
      "source": [
        "We want to scale our numerical values between 0 and 1."
      ]
    },
    {
      "cell_type": "code",
      "execution_count": 642,
      "metadata": {},
      "outputs": [
        {
          "data": {
            "text/plain": [
              "TARGET_FLAG                  int64\n",
              "KIDSDRIV                     int64\n",
              "AGE                        float64\n",
              "HOMEKIDS                     int64\n",
              "YOJ                        float64\n",
              "INCOME                     float64\n",
              "PARENT1                      int64\n",
              "HOME_VAL                   float64\n",
              "MSTATUS                      int64\n",
              "SEX                          int64\n",
              "TRAVTIME                     int64\n",
              "BLUEBOOK                   float64\n",
              "TIF                          int64\n",
              "RED_CAR                      int64\n",
              "OLDCLAIM                   float64\n",
              "CLM_FREQ                     int64\n",
              "REVOKED                      int64\n",
              "MVR_PTS                      int64\n",
              "CAR_AGE                    float64\n",
              "URBANICITY                   int64\n",
              "EDUCATION_<High School       uint8\n",
              "EDUCATION_Bachelors          uint8\n",
              "EDUCATION_Masters            uint8\n",
              "EDUCATION_PhD                uint8\n",
              "EDUCATION_z_High School      uint8\n",
              "JOB_Clerical                 uint8\n",
              "JOB_Doctor                   uint8\n",
              "JOB_Home Maker               uint8\n",
              "JOB_Lawyer                   uint8\n",
              "JOB_Manager                  uint8\n",
              "JOB_Professional             uint8\n",
              "JOB_Student                  uint8\n",
              "JOB_UNKNOW                   uint8\n",
              "JOB_z_Blue Collar            uint8\n",
              "CAR_USE_Commercial           uint8\n",
              "CAR_USE_Private              uint8\n",
              "CAR_TYPE_Minivan             uint8\n",
              "CAR_TYPE_Panel Truck         uint8\n",
              "CAR_TYPE_Pickup              uint8\n",
              "CAR_TYPE_Sports Car          uint8\n",
              "CAR_TYPE_Van                 uint8\n",
              "CAR_TYPE_z_SUV               uint8\n",
              "dtype: object"
            ]
          },
          "execution_count": 642,
          "metadata": {},
          "output_type": "execute_result"
        }
      ],
      "source": [
        "train_data.dtypes"
      ]
    },
    {
      "cell_type": "code",
      "execution_count": 643,
      "metadata": {},
      "outputs": [],
      "source": [
        "scaler = MinMaxScaler()\n",
        "\n",
        "# we fit the scaller on the train data.\n",
        "scaler = scaler.fit(train_data[[\"YOJ\",\"INCOME\",\"HOME_VAL\",\"TRAVTIME\",\"BLUEBOOK\",\"TIF\",\"OLDCLAIM\",\"CLM_FREQ\",\"MVR_PTS\"]])\n",
        "\n",
        "# and use it on train and unlabeled data\n",
        "train_data[[\"YOJ\",\"INCOME\",\"HOME_VAL\",\"TRAVTIME\",\"BLUEBOOK\",\"TIF\",\"OLDCLAIM\",\"CLM_FREQ\",\"MVR_PTS\",]] = scaler.transform(train_data[[\"YOJ\",\"INCOME\",\"HOME_VAL\",\"TRAVTIME\",\"BLUEBOOK\",\"TIF\",\"OLDCLAIM\",\"CLM_FREQ\",\"MVR_PTS\"]])\n",
        "unlabeled_data[[\"YOJ\",\"INCOME\",\"HOME_VAL\",\"TRAVTIME\",\"BLUEBOOK\",\"TIF\",\"OLDCLAIM\",\"CLM_FREQ\",\"MVR_PTS\"]] = scaler.transform(unlabeled_data[[\"YOJ\",\"INCOME\",\"HOME_VAL\",\"TRAVTIME\",\"BLUEBOOK\",\"TIF\",\"OLDCLAIM\",\"CLM_FREQ\",\"MVR_PTS\"]])\n"
      ]
    },
    {
      "cell_type": "markdown",
      "metadata": {},
      "source": [
        "We check for correlation between numerical data"
      ]
    },
    {
      "cell_type": "code",
      "execution_count": 644,
      "metadata": {},
      "outputs": [
        {
          "data": {
            "text/plain": [
              "<AxesSubplot:>"
            ]
          },
          "execution_count": 644,
          "metadata": {},
          "output_type": "execute_result"
        },
        {
          "data": {
            "image/png": "[encoded data removed]",
            "text/plain": [
              "<Figure size 432x288 with 2 Axes>"
            ]
          },
          "metadata": {
            "needs_background": "light"
          },
          "output_type": "display_data"
        }
      ],
      "source": [
        "corr = train_data[[\"YOJ\",\"INCOME\",\"HOME_VAL\",\"TRAVTIME\",\"BLUEBOOK\",\"TIF\",\"OLDCLAIM\",\"CLM_FREQ\",\"MVR_PTS\",]].corr()\n",
        "\n",
        "# plot the heatmap\n",
        "sns.heatmap(corr, \n",
        "        xticklabels=corr.columns,\n",
        "        yticklabels=corr.columns)"
      ]
    },
    {
      "cell_type": "markdown",
      "metadata": {},
      "source": [
        "- I don't see super strong correlation. We have no strong linear correlation here.\n",
        "- Let's check for no linear correlation.  "
      ]
    },
    {
      "cell_type": "code",
      "execution_count": 645,
      "metadata": {},
      "outputs": [
        {
          "data": {
            "text/plain": [
              "<AxesSubplot:>"
            ]
          },
          "execution_count": 645,
          "metadata": {},
          "output_type": "execute_result"
        },
        {
          "data": {
            "image/png": "[encoded data removed]",
            "text/plain": [
              "<Figure size 432x288 with 2 Axes>"
            ]
          },
          "metadata": {
            "needs_background": "light"
          },
          "output_type": "display_data"
        }
      ],
      "source": [
        "corr = train_data[[\"YOJ\",\"INCOME\",\"HOME_VAL\",\"TRAVTIME\",\"BLUEBOOK\",\"TIF\",\"OLDCLAIM\",\"CLM_FREQ\",\"MVR_PTS\",]].corr(method = \"spearman\")\n",
        "\n",
        "# plot the heatmap\n",
        "sns.heatmap(corr, \n",
        "        xticklabels=corr.columns,\n",
        "        yticklabels=corr.columns)"
      ]
    },
    {
      "cell_type": "markdown",
      "metadata": {},
      "source": [
        "- We don't see stong correlation. "
      ]
    },
    {
      "cell_type": "code",
      "execution_count": 646,
      "metadata": {},
      "outputs": [
        {
          "data": {
            "text/plain": [
              "0    6008\n",
              "1    2153\n",
              "Name: TARGET_FLAG, dtype: int64"
            ]
          },
          "execution_count": 646,
          "metadata": {},
          "output_type": "execute_result"
        }
      ],
      "source": [
        "train_data.TARGET_FLAG.value_counts()"
      ]
    },
    {
      "cell_type": "markdown",
      "metadata": {},
      "source": [
        "Since we have unbalanced data set we will use a roc auc score as our performance metrics."
      ]
    },
    {
      "cell_type": "markdown",
      "metadata": {},
      "source": [
        "# Fit of the model "
      ]
    },
    {
      "cell_type": "markdown",
      "metadata": {},
      "source": [
        "# xg boost "
      ]
    },
    {
      "cell_type": "markdown",
      "metadata": {},
      "source": [
        "I have decieded to use an XBboost classifer because :\n",
        "- It is easy to implement \n",
        "- Performs well \n",
        "- It is robust against overfitting\n",
        "\n",
        "To train it i will use cross validation because :\n",
        "- It leads to better results\n",
        "- It is a good way to see if our model overfits \n",
        "\n",
        "To unsure we have representative folds (with both class represented) we use the  RepeatedStratifiedKFold function."
      ]
    },
    {
      "cell_type": "code",
      "execution_count": 647,
      "metadata": {},
      "outputs": [],
      "source": [
        "target = train_data[\"TARGET_FLAG\"]\n",
        "train_data = train_data.drop([\"TARGET_FLAG\"],axis =1)\n"
      ]
    },
    {
      "cell_type": "code",
      "execution_count": 620,
      "metadata": {},
      "outputs": [
        {
          "data": {
            "text/html": [
              "<style>#sk-container-id-2 {color: black;background-color: white;}#sk-container-id-2 pre{padding: 0;}#sk-container-id-2 div.sk-toggleable {background-color: white;}#sk-container-id-2 label.sk-toggleable__label {cursor: pointer;display: block;width: 100%;margin-bottom: 0;padding: 0.3em;box-sizing: border-box;text-align: center;}#sk-container-id-2 label.sk-toggleable__label-arrow:before {content: \"▸\";float: left;margin-right: 0.25em;color: #696969;}#sk-container-id-2 label.sk-toggleable__label-arrow:hover:before {color: black;}#sk-container-id-2 div.sk-estimator:hover label.sk-toggleable__label-arrow:before {color: black;}#sk-container-id-2 div.sk-toggleable__content {max-height: 0;max-width: 0;overflow: hidden;text-align: left;background-color: #f0f8ff;}#sk-container-id-2 div.sk-toggleable__content pre {margin: 0.2em;color: black;border-radius: 0.25em;background-color: #f0f8ff;}#sk-container-id-2 input.sk-toggleable__control:checked~div.sk-toggleable__content {max-height: 200px;max-width: 100%;overflow: auto;}#sk-container-id-2 input.sk-toggleable__control:checked~label.sk-toggleable__label-arrow:before {content: \"▾\";}#sk-container-id-2 div.sk-estimator input.sk-toggleable__control:checked~label.sk-toggleable__label {background-color: #d4ebff;}#sk-container-id-2 div.sk-label input.sk-toggleable__control:checked~label.sk-toggleable__label {background-color: #d4ebff;}#sk-container-id-2 input.sk-hidden--visually {border: 0;clip: rect(1px 1px 1px 1px);clip: rect(1px, 1px, 1px, 1px);height: 1px;margin: -1px;overflow: hidden;padding: 0;position: absolute;width: 1px;}#sk-container-id-2 div.sk-estimator {font-family: monospace;background-color: #f0f8ff;border: 1px dotted black;border-radius: 0.25em;box-sizing: border-box;margin-bottom: 0.5em;}#sk-container-id-2 div.sk-estimator:hover {background-color: #d4ebff;}#sk-container-id-2 div.sk-parallel-item::after {content: \"\";width: 100%;border-bottom: 1px solid gray;flex-grow: 1;}#sk-container-id-2 div.sk-label:hover label.sk-toggleable__label {background-color: #d4ebff;}#sk-container-id-2 div.sk-serial::before {content: \"\";position: absolute;border-left: 1px solid gray;box-sizing: border-box;top: 0;bottom: 0;left: 50%;z-index: 0;}#sk-container-id-2 div.sk-serial {display: flex;flex-direction: column;align-items: center;background-color: white;padding-right: 0.2em;padding-left: 0.2em;position: relative;}#sk-container-id-2 div.sk-item {position: relative;z-index: 1;}#sk-container-id-2 div.sk-parallel {display: flex;align-items: stretch;justify-content: center;background-color: white;position: relative;}#sk-container-id-2 div.sk-item::before, #sk-container-id-2 div.sk-parallel-item::before {content: \"\";position: absolute;border-left: 1px solid gray;box-sizing: border-box;top: 0;bottom: 0;left: 50%;z-index: -1;}#sk-container-id-2 div.sk-parallel-item {display: flex;flex-direction: column;z-index: 1;position: relative;background-color: white;}#sk-container-id-2 div.sk-parallel-item:first-child::after {align-self: flex-end;width: 50%;}#sk-container-id-2 div.sk-parallel-item:last-child::after {align-self: flex-start;width: 50%;}#sk-container-id-2 div.sk-parallel-item:only-child::after {width: 0;}#sk-container-id-2 div.sk-dashed-wrapped {border: 1px dashed gray;margin: 0 0.4em 0.5em 0.4em;box-sizing: border-box;padding-bottom: 0.4em;background-color: white;}#sk-container-id-2 div.sk-label label {font-family: monospace;font-weight: bold;display: inline-block;line-height: 1.2em;}#sk-container-id-2 div.sk-label-container {text-align: center;}#sk-container-id-2 div.sk-container {/* jupyter's `normalize.less` sets `[hidden] { display: none; }` but bootstrap.min.css set `[hidden] { display: none !important; }` so we also need the `!important` here to be able to override the default hidden behavior on the sphinx rendered scikit-learn.org. See: https://github.com/scikit-learn/scikit-learn/issues/21755 */display: inline-block !important;position: relative;}#sk-container-id-2 div.sk-text-repr-fallback {display: none;}</style><div id=\"sk-container-id-2\" class=\"sk-top-container\"><div class=\"sk-text-repr-fallback\"><pre>GridSearchCV(cv=RepeatedStratifiedKFold(n_repeats=3, n_splits=10, random_state=1),\n",
              "             estimator=XGBClassifier(base_score=None, booster=None,\n",
              "                                     callbacks=None, colsample_bylevel=None,\n",
              "                                     colsample_bynode=None,\n",
              "                                     colsample_bytree=None,\n",
              "                                     early_stopping_rounds=None,\n",
              "                                     enable_categorical=False, eval_metric=None,\n",
              "                                     gamma=None, gpu_id=None, grow_policy=None,\n",
              "                                     importance_type=None,\n",
              "                                     inter...\n",
              "                                     learning_rate=None, max_bin=None,\n",
              "                                     max_cat_to_onehot=None,\n",
              "                                     max_delta_step=None, max_depth=None,\n",
              "                                     max_leaves=None, min_child_weight=None,\n",
              "                                     missing=nan, monotone_constraints=None,\n",
              "                                     n_estimators=100, n_jobs=None,\n",
              "                                     num_parallel_tree=None, predictor=None,\n",
              "                                     random_state=None, reg_alpha=None,\n",
              "                                     reg_lambda=None, ...),\n",
              "             param_grid=[{&#x27;n_estimators&#x27;: [10, 20, 30],\n",
              "                          &#x27;scale_pos_weight&#x27;: [1, 2, 4, 10]}],\n",
              "             scoring=&#x27;roc_auc&#x27;)</pre><b>In a Jupyter environment, please rerun this cell to show the HTML representation or trust the notebook. <br />On GitHub, the HTML representation is unable to render, please try loading this page with nbviewer.org.</b></div><div class=\"sk-container\" hidden><div class=\"sk-item sk-dashed-wrapped\"><div class=\"sk-label-container\"><div class=\"sk-label sk-toggleable\"><input class=\"sk-toggleable__control sk-hidden--visually\" id=\"sk-estimator-id-4\" type=\"checkbox\" ><label for=\"sk-estimator-id-4\" class=\"sk-toggleable__label sk-toggleable__label-arrow\">GridSearchCV</label><div class=\"sk-toggleable__content\"><pre>GridSearchCV(cv=RepeatedStratifiedKFold(n_repeats=3, n_splits=10, random_state=1),\n",
              "             estimator=XGBClassifier(base_score=None, booster=None,\n",
              "                                     callbacks=None, colsample_bylevel=None,\n",
              "                                     colsample_bynode=None,\n",
              "                                     colsample_bytree=None,\n",
              "                                     early_stopping_rounds=None,\n",
              "                                     enable_categorical=False, eval_metric=None,\n",
              "                                     gamma=None, gpu_id=None, grow_policy=None,\n",
              "                                     importance_type=None,\n",
              "                                     inter...\n",
              "                                     learning_rate=None, max_bin=None,\n",
              "                                     max_cat_to_onehot=None,\n",
              "                                     max_delta_step=None, max_depth=None,\n",
              "                                     max_leaves=None, min_child_weight=None,\n",
              "                                     missing=nan, monotone_constraints=None,\n",
              "                                     n_estimators=100, n_jobs=None,\n",
              "                                     num_parallel_tree=None, predictor=None,\n",
              "                                     random_state=None, reg_alpha=None,\n",
              "                                     reg_lambda=None, ...),\n",
              "             param_grid=[{&#x27;n_estimators&#x27;: [10, 20, 30],\n",
              "                          &#x27;scale_pos_weight&#x27;: [1, 2, 4, 10]}],\n",
              "             scoring=&#x27;roc_auc&#x27;)</pre></div></div></div><div class=\"sk-parallel\"><div class=\"sk-parallel-item\"><div class=\"sk-item\"><div class=\"sk-label-container\"><div class=\"sk-label sk-toggleable\"><input class=\"sk-toggleable__control sk-hidden--visually\" id=\"sk-estimator-id-5\" type=\"checkbox\" ><label for=\"sk-estimator-id-5\" class=\"sk-toggleable__label sk-toggleable__label-arrow\">estimator: XGBClassifier</label><div class=\"sk-toggleable__content\"><pre>XGBClassifier(base_score=None, booster=None, callbacks=None,\n",
              "              colsample_bylevel=None, colsample_bynode=None,\n",
              "              colsample_bytree=None, early_stopping_rounds=None,\n",
              "              enable_categorical=False, eval_metric=None, gamma=None,\n",
              "              gpu_id=None, grow_policy=None, importance_type=None,\n",
              "              interaction_constraints=None, learning_rate=None, max_bin=None,\n",
              "              max_cat_to_onehot=None, max_delta_step=None, max_depth=None,\n",
              "              max_leaves=None, min_child_weight=None, missing=nan,\n",
              "              monotone_constraints=None, n_estimators=100, n_jobs=None,\n",
              "              num_parallel_tree=None, predictor=None, random_state=None,\n",
              "              reg_alpha=None, reg_lambda=None, ...)</pre></div></div></div><div class=\"sk-serial\"><div class=\"sk-item\"><div class=\"sk-estimator sk-toggleable\"><input class=\"sk-toggleable__control sk-hidden--visually\" id=\"sk-estimator-id-6\" type=\"checkbox\" ><label for=\"sk-estimator-id-6\" class=\"sk-toggleable__label sk-toggleable__label-arrow\">XGBClassifier</label><div class=\"sk-toggleable__content\"><pre>XGBClassifier(base_score=None, booster=None, callbacks=None,\n",
              "              colsample_bylevel=None, colsample_bynode=None,\n",
              "              colsample_bytree=None, early_stopping_rounds=None,\n",
              "              enable_categorical=False, eval_metric=None, gamma=None,\n",
              "              gpu_id=None, grow_policy=None, importance_type=None,\n",
              "              interaction_constraints=None, learning_rate=None, max_bin=None,\n",
              "              max_cat_to_onehot=None, max_delta_step=None, max_depth=None,\n",
              "              max_leaves=None, min_child_weight=None, missing=nan,\n",
              "              monotone_constraints=None, n_estimators=100, n_jobs=None,\n",
              "              num_parallel_tree=None, predictor=None, random_state=None,\n",
              "              reg_alpha=None, reg_lambda=None, ...)</pre></div></div></div></div></div></div></div></div></div></div>"
            ],
            "text/plain": [
              "GridSearchCV(cv=RepeatedStratifiedKFold(n_repeats=3, n_splits=10, random_state=1),\n",
              "             estimator=XGBClassifier(base_score=None, booster=None,\n",
              "                                     callbacks=None, colsample_bylevel=None,\n",
              "                                     colsample_bynode=None,\n",
              "                                     colsample_bytree=None,\n",
              "                                     early_stopping_rounds=None,\n",
              "                                     enable_categorical=False, eval_metric=None,\n",
              "                                     gamma=None, gpu_id=None, grow_policy=None,\n",
              "                                     importance_type=None,\n",
              "                                     inter...\n",
              "                                     learning_rate=None, max_bin=None,\n",
              "                                     max_cat_to_onehot=None,\n",
              "                                     max_delta_step=None, max_depth=None,\n",
              "                                     max_leaves=None, min_child_weight=None,\n",
              "                                     missing=nan, monotone_constraints=None,\n",
              "                                     n_estimators=100, n_jobs=None,\n",
              "                                     num_parallel_tree=None, predictor=None,\n",
              "                                     random_state=None, reg_alpha=None,\n",
              "                                     reg_lambda=None, ...),\n",
              "             param_grid=[{'n_estimators': [10, 20, 30],\n",
              "                          'scale_pos_weight': [1, 2, 4, 10]}],\n",
              "             scoring='roc_auc')"
            ]
          },
          "execution_count": 620,
          "metadata": {},
          "output_type": "execute_result"
        }
      ],
      "source": [
        "# Some caracters in the name of the columns are not accepted by the librairy. We will remove them. \n",
        "regex = re.compile(r\"\\[|\\]|<\", re.IGNORECASE)\n",
        "\n",
        "train_data.columns = [regex.sub(\"_\", col) if any(x in str(col) for x in set(('[', ']', '<'))) else col for col in train_data.columns.values]\n",
        "unlabeled_data.columns = [regex.sub(\"_\", col) if any(x in str(col) for x in set(('[', ']', '<'))) else col for col in unlabeled_data.columns.values]\n",
        "\n",
        "param_grid = [\n",
        "    {\"n_estimators\": [10,20,30],\n",
        "    \"scale_pos_weight\": [1,2,4,10]},\n",
        "]\n",
        "\n",
        "model = XGBClassifier()\n",
        "cv = RepeatedStratifiedKFold(n_splits=10, n_repeats=3, random_state=1)\n",
        "\n",
        "search = GridSearchCV(estimator=model, param_grid=param_grid, scoring=\"roc_auc\", cv=cv)\n",
        "search.fit(train_data, target)\n"
      ]
    },
    {
      "cell_type": "code",
      "execution_count": 621,
      "metadata": {},
      "outputs": [
        {
          "name": "stdout",
          "output_type": "stream",
          "text": [
            "0.8150394431358939\n"
          ]
        }
      ],
      "source": [
        "\n",
        "print(search.best_score_)\n"
      ]
    },
    {
      "cell_type": "markdown",
      "metadata": {},
      "source": [
        "- We have a 'not to bad' score but there is room for imporvement (we are far from a roc auc of 1).\n",
        "- We could have done a grid search to optimize other parameters but I had only 3 hours to do the test. So I have decided not to do it.\n",
        "- Since we have an imbalanced data set I did so test with the scale_pos_weight parameters. But it did not help."
      ]
    },
    {
      "cell_type": "code",
      "execution_count": 622,
      "metadata": {},
      "outputs": [
        {
          "name": "stdout",
          "output_type": "stream",
          "text": [
            "[0.84359401 0.80247649 0.83567697 0.80557211 0.80492203 0.81506017\n",
            " 0.82073676 0.81773014 0.81274691 0.82126543 0.82994392 0.82844871\n",
            " 0.78751693 0.79903262 0.80449251 0.82718725 0.83138181 0.81723484\n",
            " 0.81324846 0.82181327 0.80738892 0.80719731 0.80503811 0.76802229\n",
            " 0.80888442 0.81244438 0.8161359  0.8399644  0.82534722 0.82067901]\n",
            "Mean ROC AUC: 0.815\n"
          ]
        }
      ],
      "source": [
        "scores = cross_val_score(search.best_estimator_,train_data, target, scoring='roc_auc', cv=cv, n_jobs=-1)\n",
        "print(scores)\n",
        "print('Mean ROC AUC: %.3f' % np.mean(scores))"
      ]
    },
    {
      "cell_type": "markdown",
      "metadata": {},
      "source": [
        "- We have more or less the same values of ROC_AUC in our folders. It means we are not overfitting. \n",
        "- But we are using 41 features which can prevent our model from performing better. \n",
        "- I will try a PCA to reduce the dimension. "
      ]
    },
    {
      "cell_type": "code",
      "execution_count": 623,
      "metadata": {},
      "outputs": [
        {
          "data": {
            "text/plain": [
              "array([[528,  78],\n",
              "       [ 37, 173]])"
            ]
          },
          "execution_count": 623,
          "metadata": {},
          "output_type": "execute_result"
        }
      ],
      "source": [
        "from sklearn.metrics import confusion_matrix\n",
        "test_sample = train_data.sample(frac=0.1)\n",
        "test_answer = target.iloc[test_sample.index.values]\n",
        "\n",
        "preidction = search.best_estimator_.predict(test_sample)\n",
        "\n",
        "confusion_matrix(test_answer,preidction)\n"
      ]
    },
    {
      "cell_type": "markdown",
      "metadata": {},
      "source": [
        "- We have better performances on class 0 than 1. \n",
        "- We can try to tune the scale_pos_weight to be have same performances on both class but I will focus on dimension reduction."
      ]
    },
    {
      "cell_type": "markdown",
      "metadata": {},
      "source": [
        "### PCA"
      ]
    },
    {
      "cell_type": "code",
      "execution_count": 624,
      "metadata": {},
      "outputs": [
        {
          "name": "stdout",
          "output_type": "stream",
          "text": [
            "2\n"
          ]
        },
        {
          "data": {
            "image/png": "[encoded data removed]",
            "text/plain": [
              "<Figure size 432x288 with 1 Axes>"
            ]
          },
          "metadata": {
            "needs_background": "light"
          },
          "output_type": "display_data"
        }
      ],
      "source": [
        "from sklearn.decomposition import PCA\n",
        "import matplotlib.pyplot as plot\n",
        "\n",
        "explained_var = []\n",
        "flag = False\n",
        "for nb_components in range(39):\n",
        "    pca = PCA(n_components= nb_components)\n",
        "    pca.fit(train_data)\n",
        "    explained_var.append(sum(pca.explained_variance_ratio_))\n",
        "    if sum(pca.explained_variance_ratio_) > 0.95 and not flag:\n",
        "        flag = True\n",
        "        print(nb_components)\n",
        "\n",
        "    \n",
        "plot.plot(explained_var)\n",
        "plot.plot([0.8 for i in range(40)])\n",
        "plot.ylabel('Explained Variance')\n",
        "plot.xlabel('Components')\n",
        "plot.show()\n"
      ]
    },
    {
      "cell_type": "code",
      "execution_count": 625,
      "metadata": {},
      "outputs": [],
      "source": [
        "pca = PCA(n_components= 20)\n",
        "pca.fit(train_data)\n",
        "\n",
        "train_data_pca = pca.transform(train_data)\n",
        "unlabeled_data_pca = pca.transform(unlabeled_data)"
      ]
    },
    {
      "cell_type": "code",
      "execution_count": 626,
      "metadata": {},
      "outputs": [
        {
          "name": "stdout",
          "output_type": "stream",
          "text": [
            "Mean ROC AUC: 0.782\n",
            "[0.80742358 0.78504044 0.7722865  0.77682545 0.75721859 0.76353751\n",
            " 0.78618968 0.79907905 0.7748804  0.78761188 0.78895899 0.80095964\n",
            " 0.75591456 0.78859266 0.78267229 0.78609682 0.80158263 0.79552684\n",
            " 0.76525463 0.77411651 0.791736   0.77865186 0.7538018  0.73149789\n",
            " 0.76987192 0.76669117 0.79056224 0.81888713 0.80951389 0.79028549]\n"
          ]
        }
      ],
      "source": [
        "regex = re.compile(r\"\\[|\\]|<\", re.IGNORECASE)\n",
        "\n",
        "param_grid = [\n",
        "    {\"n_estimators\": [10,20,30],\n",
        "    \"scale_pos_weight\": [1,2,4,10]},\n",
        "]\n",
        "\n",
        "model = XGBClassifier()\n",
        "cv = RepeatedStratifiedKFold(n_splits=10, n_repeats=3, random_state=1)\n",
        "\n",
        "search_2 = GridSearchCV(estimator=model, param_grid=param_grid, scoring=\"roc_auc\", cv=cv)\n",
        "search_2.fit(train_data_pca, target)\n",
        "\n",
        "scores = cross_val_score(search_2.best_estimator_,train_data_pca, target, scoring='roc_auc', cv=cv, n_jobs=-1)\n",
        "print('Mean ROC AUC: %.3f' % np.mean(scores))\n",
        "print(scores)"
      ]
    },
    {
      "cell_type": "markdown",
      "metadata": {},
      "source": [
        "Doing sevrel test I have notice that the roc_auc score is an incresing function of the n_components in the PCA.Dimension reduction did not help."
      ]
    },
    {
      "cell_type": "markdown",
      "metadata": {},
      "source": [
        "I think to have better performances we can try to :\n",
        "- Optimize the data preparation. (check for highly correlated data for example). \n",
        "- Try to fit another model. \n",
        "- Do a grid search on hyperparameters.\n",
        "- Find a better solution for dimension reduction (one that handle none numeric data)."
      ]
    },
    {
      "cell_type": "markdown",
      "metadata": {},
      "source": [
        "Our best model is the first grid search. We will use it to do our prediction."
      ]
    },
    {
      "cell_type": "markdown",
      "metadata": {},
      "source": [
        "# Prediction"
      ]
    },
    {
      "cell_type": "code",
      "execution_count": 648,
      "metadata": {},
      "outputs": [],
      "source": [
        "unlabeled_data[\"TARGET_FLAG\"] = search.best_estimator_.predict(unlabeled_data.values)\n"
      ]
    },
    {
      "cell_type": "code",
      "execution_count": 649,
      "metadata": {},
      "outputs": [
        {
          "data": {
            "text/plain": [
              "0    1458\n",
              "1     683\n",
              "Name: TARGET_FLAG, dtype: int64"
            ]
          },
          "execution_count": 649,
          "metadata": {},
          "output_type": "execute_result"
        }
      ],
      "source": [
        "unlabeled_data[\"TARGET_FLAG\"].value_counts()"
      ]
    },
    {
      "cell_type": "code",
      "execution_count": 650,
      "metadata": {},
      "outputs": [],
      "source": [
        "unlabeled_data.to_csv(\"predicted_values.csv\")"
      ]
    },
    {
      "cell_type": "code",
      "execution_count": 651,
      "metadata": {},
      "outputs": [
        {
          "data": {
            "text/plain": [
              "(2141, 42)"
            ]
          },
          "execution_count": 651,
          "metadata": {},
          "output_type": "execute_result"
        }
      ],
      "source": [
        "unlabeled_data.shape"
      ]
    },
    {
      "cell_type": "code",
      "execution_count": null,
      "metadata": {},
      "outputs": [],
      "source": []
    }
  ],
  "metadata": {
    "interpreter": {
      "hash": "7812ea015bdcee6f23a998adcdd2ef97c151c0c241b7b7070987d9313e41299d"
    },
    "kernelspec": {
      "display_name": "Python 3.9.10 64-bit",
      "language": "python",
      "name": "python3"
    },
    "language_info": {
      "codemirror_mode": {
        "name": "ipython",
        "version": 3
      },
      "file_extension": ".py",
      "mimetype": "text/x-python",
      "name": "python",
      "nbconvert_exporter": "python",
      "pygments_lexer": "ipython3",
      "version": "3.9.10"
    },
    "orig_nbformat": 4
  },
  "nbformat": 4,
  "nbformat_minor": 2
}
